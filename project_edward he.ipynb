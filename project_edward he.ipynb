{
 "cells": [
  {
   "cell_type": "code",
   "execution_count": 7,
   "metadata": {},
   "outputs": [],
   "source": [
    "import pandas as pd\n",
    "import matplotlib as plt\n",
    "import numpy as np\n",
    "import matplotlib.pyplot as plt\n",
    "data=pd.read_csv(\"creditcard.csv\")\n",
    "data2=pd.read_csv(\"data_train_before_smote1.csv\")\n",
    "data_test=pd.read_csv(\"test_data_set1.csv\")"
   ]
  },
  {
   "cell_type": "code",
   "execution_count": 8,
   "metadata": {},
   "outputs": [
    {
     "data": {
      "text/plain": [
       "0    85309\n",
       "1      134\n",
       "Name: Class, dtype: int64"
      ]
     },
     "execution_count": 8,
     "metadata": {},
     "output_type": "execute_result"
    }
   ],
   "source": [
    "data_test[\"Class\"].value_counts()"
   ]
  },
  {
   "cell_type": "code",
   "execution_count": 5,
   "metadata": {},
   "outputs": [],
   "source": [
    "from sklearn.model_selection import train_test_split\n",
    "input_var2 = list(set(data2.columns)- set([\"Class\"]))\n",
    "X2 = data2[input_var2]\n",
    "Y2 = data2[\"Class\"]"
   ]
  },
  {
   "cell_type": "code",
   "execution_count": 9,
   "metadata": {},
   "outputs": [],
   "source": [
    "input_var3 = list(set(data_test.columns)- set([\"Class\"]))\n",
    "X_test = data_test[input_var3]\n",
    "Y_test = data_test[\"Class\"]"
   ]
  },
  {
   "cell_type": "code",
   "execution_count": 4,
   "metadata": {},
   "outputs": [
    {
     "data": {
      "text/plain": [
       "0    85309\n",
       "1      134\n",
       "Name: Class, dtype: int64"
      ]
     },
     "execution_count": 4,
     "metadata": {},
     "output_type": "execute_result"
    }
   ],
   "source": [
    "Y_test.value_counts()"
   ]
  },
  {
   "cell_type": "code",
   "execution_count": 22,
   "metadata": {},
   "outputs": [
    {
     "name": "stdout",
     "output_type": "stream",
     "text": [
      "\n",
      "Note: you may need to restart the kernel to use updated packages.\n"
     ]
    },
    {
     "name": "stderr",
     "output_type": "stream",
     "text": [
      "usage: conda-script.py [-h] [-V] command ...\n",
      "conda-script.py: error: unrecognized arguments: imbalanced-learn\n"
     ]
    }
   ],
   "source": [
    "conda install -c conda-forge imbalanced-learn"
   ]
  },
  {
   "cell_type": "code",
   "execution_count": 10,
   "metadata": {},
   "outputs": [],
   "source": [
    "import numpy as np\n",
    "from sklearn.ensemble import RandomForestClassifier\n",
    "rf1 = RandomForestClassifier(n_estimators=20, max_depth=5, random_state=0)\n",
    "rf1.fit(X2, Y2)\n",
    "pred_Y_rf1 = rf1.predict(X_test)\n",
    "rf2 = RandomForestClassifier(n_estimators=40, max_depth=5, random_state=0)\n",
    "rf2.fit(X2, Y2)\n",
    "pred_Y_rf2 = rf2.predict(X_test)\n",
    "rf3 = RandomForestClassifier(n_estimators=60, max_depth=5, random_state=0)\n",
    "rf3.fit(X2, Y2)\n",
    "pred_Y_rf3 = rf3.predict(X_test)\n",
    "rf4 = RandomForestClassifier(n_estimators=80, max_depth=5, random_state=0)\n",
    "rf4.fit(X2, Y2)\n",
    "pred_Y_rf4 = rf4.predict(X_test)\n",
    "rf5 = RandomForestClassifier(n_estimators=100, max_depth=5, random_state=0)\n",
    "rf5.fit(X2, Y2)\n",
    "pred_Y_rf5 = rf5.predict(X_test)"
   ]
  },
  {
   "cell_type": "code",
   "execution_count": 11,
   "metadata": {},
   "outputs": [],
   "source": [
    "from sklearn.tree import DecisionTreeClassifier\n",
    "from sklearn.metrics import confusion_matrix\n",
    "import warnings\n",
    "warnings.filterwarnings(\"ignore\")"
   ]
  },
  {
   "cell_type": "code",
   "execution_count": 12,
   "metadata": {},
   "outputs": [],
   "source": [
    "# computes the confusion matrix and performence indicators\n",
    "def get_performance(actual_Y, pred_Y):\n",
    "    cm = confusion_matrix(actual_Y, pred_Y)\n",
    "    total = sum(sum(cm))\n",
    "    accuracy = (cm[0,0]+cm[1,1])/total\n",
    "    sensitivity = cm[0,0]/(cm[0,0]+cm[0,1])\n",
    "    specificity = cm[1,1]/(cm[1,0]+cm[1,1])\n",
    "    return accuracy, sensitivity, specificity"
   ]
  },
  {
   "cell_type": "code",
   "execution_count": 13,
   "metadata": {},
   "outputs": [],
   "source": [
    "accuracy_rf1, sensitivity_rf1, specificity_rf1 = get_performance(Y_test, pred_Y_rf1)\n",
    "accuracy_rf2, sensitivity_rf2, specificity_rf2 = get_performance(Y_test, pred_Y_rf2)\n",
    "accuracy_rf3, sensitivity_rf3, specificity_rf3 = get_performance(Y_test, pred_Y_rf3)\n",
    "accuracy_rf4, sensitivity_rf4, specificity_rf4 = get_performance(Y_test, pred_Y_rf4)\n",
    "accuracy_rf5, sensitivity_rf5, specificity_rf5 = get_performance(Y_test, pred_Y_rf5)"
   ]
  },
  {
   "cell_type": "code",
   "execution_count": 14,
   "metadata": {},
   "outputs": [
    {
     "data": {
      "text/html": [
       "<div>\n",
       "<style scoped>\n",
       "    .dataframe tbody tr th:only-of-type {\n",
       "        vertical-align: middle;\n",
       "    }\n",
       "\n",
       "    .dataframe tbody tr th {\n",
       "        vertical-align: top;\n",
       "    }\n",
       "\n",
       "    .dataframe thead th {\n",
       "        text-align: right;\n",
       "    }\n",
       "</style>\n",
       "<table border=\"1\" class=\"dataframe\">\n",
       "  <thead>\n",
       "    <tr style=\"text-align: right;\">\n",
       "      <th></th>\n",
       "      <th>accuracy</th>\n",
       "      <th>sensitivity</th>\n",
       "      <th>specificity</th>\n",
       "    </tr>\n",
       "  </thead>\n",
       "  <tbody>\n",
       "    <tr>\n",
       "      <td>accuracy_rf1</td>\n",
       "      <td>0.999473</td>\n",
       "      <td>0.999871</td>\n",
       "      <td>0.746269</td>\n",
       "    </tr>\n",
       "    <tr>\n",
       "      <td>accuracy_rf2</td>\n",
       "      <td>0.999450</td>\n",
       "      <td>0.999859</td>\n",
       "      <td>0.738806</td>\n",
       "    </tr>\n",
       "    <tr>\n",
       "      <td>accuracy_rf3</td>\n",
       "      <td>0.999462</td>\n",
       "      <td>0.999871</td>\n",
       "      <td>0.738806</td>\n",
       "    </tr>\n",
       "    <tr>\n",
       "      <td>accuracy_rf4</td>\n",
       "      <td>0.999450</td>\n",
       "      <td>0.999859</td>\n",
       "      <td>0.738806</td>\n",
       "    </tr>\n",
       "    <tr>\n",
       "      <td>accuracy_rf5</td>\n",
       "      <td>0.999462</td>\n",
       "      <td>0.999859</td>\n",
       "      <td>0.746269</td>\n",
       "    </tr>\n",
       "  </tbody>\n",
       "</table>\n",
       "</div>"
      ],
      "text/plain": [
       "              accuracy  sensitivity  specificity\n",
       "accuracy_rf1  0.999473     0.999871     0.746269\n",
       "accuracy_rf2  0.999450     0.999859     0.738806\n",
       "accuracy_rf3  0.999462     0.999871     0.738806\n",
       "accuracy_rf4  0.999450     0.999859     0.738806\n",
       "accuracy_rf5  0.999462     0.999859     0.746269"
      ]
     },
     "execution_count": 14,
     "metadata": {},
     "output_type": "execute_result"
    }
   ],
   "source": [
    "# Builds a dataframe using the performance indicators so that we can compare the models easily\n",
    "\n",
    "perf = pd.DataFrame([accuracy_rf1, accuracy_rf2,accuracy_rf3,accuracy_rf4,accuracy_rf5], \n",
    "                    columns = ['accuracy'], \n",
    "                    index = ['accuracy_rf1',\n",
    "                             'accuracy_rf2', 'accuracy_rf3','accuracy_rf4',\"accuracy_rf5\"])\n",
    "\n",
    "perf['sensitivity'] = np.asarray([sensitivity_rf1,\n",
    "                                  sensitivity_rf2, \n",
    "                                  sensitivity_rf3,\n",
    "                                  sensitivity_rf4,\n",
    "                                 sensitivity_rf5])\n",
    "\n",
    "perf['specificity'] = np.asarray([specificity_rf1,\n",
    "                                  specificity_rf2,\n",
    "                                  specificity_rf3,\n",
    "                                  specificity_rf4,\n",
    "                                 specificity_rf5])\n",
    "\n",
    "perf"
   ]
  },
  {
   "cell_type": "code",
   "execution_count": 15,
   "metadata": {},
   "outputs": [],
   "source": [
    "tn1, fp1, fn1, tp1 = confusion_matrix(Y_test,pred_Y_rf1).ravel()\n",
    "tn2, fp2, fn2, tp2 = confusion_matrix(Y_test,pred_Y_rf2).ravel()\n",
    "tn3, fp3, fn3, tp3 = confusion_matrix(Y_test,pred_Y_rf3).ravel()\n",
    "tn4, fp4, fn4, tp4 = confusion_matrix(Y_test,pred_Y_rf4).ravel()\n",
    "tn5, fp5, fn5, tp5 = confusion_matrix(Y_test,pred_Y_rf5).ravel()"
   ]
  },
  {
   "cell_type": "code",
   "execution_count": 16,
   "metadata": {},
   "outputs": [
    {
     "data": {
      "text/html": [
       "<div>\n",
       "<style scoped>\n",
       "    .dataframe tbody tr th:only-of-type {\n",
       "        vertical-align: middle;\n",
       "    }\n",
       "\n",
       "    .dataframe tbody tr th {\n",
       "        vertical-align: top;\n",
       "    }\n",
       "\n",
       "    .dataframe thead th {\n",
       "        text-align: right;\n",
       "    }\n",
       "</style>\n",
       "<table border=\"1\" class=\"dataframe\">\n",
       "  <thead>\n",
       "    <tr style=\"text-align: right;\">\n",
       "      <th></th>\n",
       "      <th>tn</th>\n",
       "      <th>fp</th>\n",
       "      <th>fn</th>\n",
       "      <th>tp</th>\n",
       "    </tr>\n",
       "  </thead>\n",
       "  <tbody>\n",
       "    <tr>\n",
       "      <td>tn1</td>\n",
       "      <td>85298</td>\n",
       "      <td>11</td>\n",
       "      <td>11</td>\n",
       "      <td>100</td>\n",
       "    </tr>\n",
       "    <tr>\n",
       "      <td>tn2</td>\n",
       "      <td>85297</td>\n",
       "      <td>12</td>\n",
       "      <td>12</td>\n",
       "      <td>99</td>\n",
       "    </tr>\n",
       "    <tr>\n",
       "      <td>tn3</td>\n",
       "      <td>85298</td>\n",
       "      <td>11</td>\n",
       "      <td>11</td>\n",
       "      <td>99</td>\n",
       "    </tr>\n",
       "    <tr>\n",
       "      <td>tn4</td>\n",
       "      <td>85297</td>\n",
       "      <td>12</td>\n",
       "      <td>12</td>\n",
       "      <td>99</td>\n",
       "    </tr>\n",
       "    <tr>\n",
       "      <td>tn5</td>\n",
       "      <td>85297</td>\n",
       "      <td>12</td>\n",
       "      <td>12</td>\n",
       "      <td>100</td>\n",
       "    </tr>\n",
       "  </tbody>\n",
       "</table>\n",
       "</div>"
      ],
      "text/plain": [
       "        tn  fp  fn   tp\n",
       "tn1  85298  11  11  100\n",
       "tn2  85297  12  12   99\n",
       "tn3  85298  11  11   99\n",
       "tn4  85297  12  12   99\n",
       "tn5  85297  12  12  100"
      ]
     },
     "execution_count": 16,
     "metadata": {},
     "output_type": "execute_result"
    }
   ],
   "source": [
    "perf = pd.DataFrame([tn1, tn2,tn3,tn4,tn5], \n",
    "                    columns = ['tn'], \n",
    "                    index = ['tn1',\n",
    "                             'tn2', 'tn3','tn4',\"tn5\"])\n",
    "\n",
    "perf['fp'] = np.asarray([fp1,\n",
    "                                  fp2, \n",
    "                                  fp3,\n",
    "                                  fp4,\n",
    "                                 fp5])\n",
    "\n",
    "perf['fn'] = np.asarray([fp1,\n",
    "                                  fp2,\n",
    "                                  fp3,\n",
    "                                  fp4,\n",
    "                                 fp5])\n",
    "perf['tp'] = np.asarray([tp1,\n",
    "                                  tp2,\n",
    "                                  tp3,\n",
    "                                  tp4,\n",
    "                                 tp5])\n",
    "\n",
    "perf"
   ]
  },
  {
   "cell_type": "code",
   "execution_count": 17,
   "metadata": {},
   "outputs": [],
   "source": [
    "profit1=-0.25*fn1+0.1*(tn1+tp1)\n",
    "profit2=-0.25*fn2+0.1*(tn2+tp2)\n",
    "profit3=-0.25*fn3+0.1*(tn3+tp3)\n",
    "profit4=-0.25*fn4+0.1*(tn4+tp4)\n",
    "profit5=-0.25*fn5+0.1*(tn5+tp5)"
   ]
  },
  {
   "cell_type": "code",
   "execution_count": 18,
   "metadata": {},
   "outputs": [
    {
     "data": {
      "text/html": [
       "<div>\n",
       "<style scoped>\n",
       "    .dataframe tbody tr th:only-of-type {\n",
       "        vertical-align: middle;\n",
       "    }\n",
       "\n",
       "    .dataframe tbody tr th {\n",
       "        vertical-align: top;\n",
       "    }\n",
       "\n",
       "    .dataframe thead th {\n",
       "        text-align: right;\n",
       "    }\n",
       "</style>\n",
       "<table border=\"1\" class=\"dataframe\">\n",
       "  <thead>\n",
       "    <tr style=\"text-align: right;\">\n",
       "      <th></th>\n",
       "      <th>profit</th>\n",
       "    </tr>\n",
       "  </thead>\n",
       "  <tbody>\n",
       "    <tr>\n",
       "      <td>profit1</td>\n",
       "      <td>8531.30</td>\n",
       "    </tr>\n",
       "    <tr>\n",
       "      <td>profit2</td>\n",
       "      <td>8530.85</td>\n",
       "    </tr>\n",
       "    <tr>\n",
       "      <td>profit3</td>\n",
       "      <td>8530.95</td>\n",
       "    </tr>\n",
       "    <tr>\n",
       "      <td>profit4</td>\n",
       "      <td>8530.85</td>\n",
       "    </tr>\n",
       "    <tr>\n",
       "      <td>profit5</td>\n",
       "      <td>8531.20</td>\n",
       "    </tr>\n",
       "  </tbody>\n",
       "</table>\n",
       "</div>"
      ],
      "text/plain": [
       "          profit\n",
       "profit1  8531.30\n",
       "profit2  8530.85\n",
       "profit3  8530.95\n",
       "profit4  8530.85\n",
       "profit5  8531.20"
      ]
     },
     "execution_count": 18,
     "metadata": {},
     "output_type": "execute_result"
    }
   ],
   "source": [
    "perf = pd.DataFrame([profit1, profit2,profit3,profit4,profit5], \n",
    "                    columns = ['profit'], \n",
    "                    index = ['profit1',\n",
    "                             'profit2', 'profit3','profit4',\"profit5\"])\n",
    "\n",
    "perf['profit'] = np.asarray([profit1,\n",
    "                                  profit2, \n",
    "                                  profit3,\n",
    "                                  profit4,\n",
    "                                 profit5])\n",
    "perf"
   ]
  },
  {
   "cell_type": "code",
   "execution_count": 19,
   "metadata": {},
   "outputs": [],
   "source": [
    "precision=tp5/(tp5 + fp5)\n",
    "recall=tp5/(fn5 + tp5)\n",
    "F_Meature=2*precision*recall/(precision + recall)"
   ]
  },
  {
   "cell_type": "code",
   "execution_count": 20,
   "metadata": {},
   "outputs": [
    {
     "data": {
      "text/plain": [
       "(0.9994616293903538,\n",
       " 0.9998593348884642,\n",
       " 0.746268656716418,\n",
       " 8531.2,\n",
       " 0.8928571428571429,\n",
       " 0.746268656716418,\n",
       " 0.8130081300813009)"
      ]
     },
     "execution_count": 20,
     "metadata": {},
     "output_type": "execute_result"
    }
   ],
   "source": [
    "accuracy_rf5,sensitivity_rf5,specificity_rf5,profit5,precision,recall,F_Meature"
   ]
  },
  {
   "cell_type": "code",
   "execution_count": 22,
   "metadata": {},
   "outputs": [
    {
     "data": {
      "text/plain": [
       "V17                     0.199475\n",
       "V12                     0.165761\n",
       "V14                     0.140257\n",
       "V16                     0.092851\n",
       "V10                     0.088254\n",
       "V11                     0.074669\n",
       "V9                      0.040600\n",
       "V18                     0.032432\n",
       "V4                      0.027514\n",
       "V7                      0.016345\n",
       "V6                      0.012973\n",
       "V21                     0.012509\n",
       "V3                      0.009932\n",
       "V26                     0.008621\n",
       "V2                      0.008410\n",
       "V20                     0.007894\n",
       "V5                      0.006801\n",
       "V27                     0.006465\n",
       "V1                      0.006209\n",
       "V8                      0.005537\n",
       "V28                     0.004842\n",
       "Time_ Standardized      0.004297\n",
       "V15                     0.003868\n",
       "V19                     0.003644\n",
       "V22                     0.003511\n",
       "Unnamed: 0              0.003275\n",
       "V24                     0.003005\n",
       "V25                     0.002856\n",
       "V13                     0.002624\n",
       "Amount_ Standardized    0.002534\n",
       "V23                     0.002035\n",
       "dtype: float64"
      ]
     },
     "execution_count": 22,
     "metadata": {},
     "output_type": "execute_result"
    }
   ],
   "source": [
    "import pandas as pd\n",
    "feature_imp = pd.Series(rf5.feature_importances_,index=X2.columns.values).sort_values(ascending=False)\n",
    "feature_imp"
   ]
  },
  {
   "cell_type": "code",
   "execution_count": 23,
   "metadata": {},
   "outputs": [
    {
     "name": "stderr",
     "output_type": "stream",
     "text": [
      "No handles with labels found to put in legend.\n"
     ]
    },
    {
     "data": {
      "image/png": "[encoded data removed]",
      "text/plain": [
       "<Figure size 432x288 with 1 Axes>"
      ]
     },
     "metadata": {
      "needs_background": "light"
     },
     "output_type": "display_data"
    }
   ],
   "source": [
    "import matplotlib.pyplot as plt\n",
    "import seaborn as sns\n",
    "%matplotlib inline\n",
    "# Creating a bar plot\n",
    "sns.barplot(x=feature_imp, y=feature_imp.index)\n",
    "# Add labels to your graph\n",
    "plt.xlabel('Feature Importance Score')\n",
    "plt.ylabel('Features')\n",
    "plt.title(\"Visualizing Important Features\")\n",
    "plt.legend()\n",
    "plt.show()"
   ]
  }
 ],
 "metadata": {
  "kernelspec": {
   "display_name": "Python 3",
   "language": "python",
   "name": "python3"
  },
  "language_info": {
   "codemirror_mode": {
    "name": "ipython",
    "version": 3
   },
   "file_extension": ".py",
   "mimetype": "text/x-python",
   "name": "python",
   "nbconvert_exporter": "python",
   "pygments_lexer": "ipython3",
   "version": "3.7.4"
  }
 },
 "nbformat": 4,
 "nbformat_minor": 2
}
